{
 "cells": [
  {
   "cell_type": "markdown",
   "metadata": {},
   "source": [
    "# <b>Weather Data Collection and Analysis"
   ]
  },
  {
   "cell_type": "markdown",
   "metadata": {},
   "source": [
    "## <b>Libraries"
   ]
  },
  {
   "cell_type": "code",
   "execution_count": 1,
   "metadata": {},
   "outputs": [],
   "source": [
    "import requests\n",
    "from datetime import datetime\n",
    "import pandas as pd\n",
    "import sqlite3\n",
    "import os"
   ]
  },
  {
   "cell_type": "markdown",
   "metadata": {},
   "source": [
    "## <b>Extracting Data"
   ]
  },
  {
   "cell_type": "code",
   "execution_count": 2,
   "metadata": {},
   "outputs": [
    {
     "name": "stdout",
     "output_type": "stream",
     "text": [
      "\n",
      "Fetching current weather data for New York...\n",
      "\n",
      "Fetching current weather data for Los Angeles...\n",
      "\n",
      "Fetching current weather data for Chicago...\n",
      "\n",
      "Fetching current weather data for Houston...\n",
      "\n",
      "Fetching current weather data for Phoenix...\n",
      "\n",
      "Fetching current weather data for Philadelphia...\n",
      "\n",
      "Fetching current weather data for San Antonio...\n",
      "\n",
      "Fetching current weather data for San Diego...\n",
      "\n",
      "Fetching current weather data for Dallas...\n",
      "\n",
      "Fetching current weather data for San Jose...\n",
      "\n",
      "Weather Data Table:\n",
      "           City          Weather  Temperature_Celsius  Humidity  Wind_speed  \\\n",
      "0      New York    broken clouds                23.62        83        1.79   \n",
      "1   Los Angeles        clear sky                21.92        70        3.60   \n",
      "2       Chicago  very heavy rain                22.68        90        7.66   \n",
      "3       Houston    broken clouds                27.18        75        3.09   \n",
      "4       Phoenix    broken clouds                34.54        39        3.09   \n",
      "5  Philadelphia        clear sky                25.71        79        0.00   \n",
      "6   San Antonio        clear sky                27.49        70        5.14   \n",
      "7     San Diego       few clouds                20.86        82        3.09   \n",
      "8        Dallas        clear sky                29.25        66        3.09   \n",
      "9      San Jose        clear sky                21.44        57        2.06   \n",
      "\n",
      "             Timestamp  \n",
      "0  2024-06-23 10:43:00  \n",
      "1  2024-06-23 10:46:06  \n",
      "2  2024-06-23 10:46:42  \n",
      "3  2024-06-23 10:46:51  \n",
      "4  2024-06-23 10:49:04  \n",
      "5  2024-06-23 10:49:05  \n",
      "6  2024-06-23 10:49:05  \n",
      "7  2024-06-23 10:47:46  \n",
      "8  2024-06-23 10:41:01  \n",
      "9  2024-06-23 10:47:40  \n"
     ]
    }
   ],
   "source": [
    "# Replace with your OpenWeatherMap API key\n",
    "api_key = 'Give_Your_API_Key'\n",
    "\n",
    "# List of cities for which you want to fetch weather data\n",
    "cities = ['New York', 'Los Angeles', 'Chicago', 'Houston', 'Phoenix', \n",
    "          'Philadelphia', 'San Antonio', 'San Diego', 'Dallas', 'San Jose']\n",
    "\n",
    "# Base URL for the OpenWeatherMap API\n",
    "base_url = 'http://api.openweathermap.org/data/2.5/weather'\n",
    "\n",
    "# Function to fetch weather data from OpenWeatherMap\n",
    "def fetch_weather_data(city):\n",
    "    try:\n",
    "        endpoint = f'{base_url}?q={city}&appid={api_key}&units=metric'\n",
    "        response = requests.get(endpoint)\n",
    "        response.raise_for_status()  # Raise an exception for HTTP errors (4xx or 5xx)\n",
    "        return response.json()\n",
    "    except requests.exceptions.RequestException as e:\n",
    "        print(f\"Error fetching data for {city}: {e}\")\n",
    "        return None\n",
    "\n",
    "# Function to extract relevant weather information\n",
    "def extract_weather_info(data):\n",
    "    if data:\n",
    "        weather_info = {\n",
    "            'City': data['name'],\n",
    "            'Weather': data['weather'][0]['description'],\n",
    "            'Temperature_Celsius': data['main']['temp'],\n",
    "            'Humidity': data['main']['humidity'],\n",
    "            'Wind_speed': data['wind']['speed'],\n",
    "            'Timestamp': datetime.fromtimestamp(data['dt']).strftime('%Y-%m-%d %H:%M:%S')\n",
    "        }\n",
    "        return weather_info\n",
    "    return None\n",
    "\n",
    "# Main function to orchestrate data extraction and tabulation\n",
    "\n",
    "weather_data_list = []\n",
    "\n",
    "for city in cities:\n",
    "        print(f\"\\nFetching current weather data for {city}...\")\n",
    "\n",
    "        # Fetch data from OpenWeatherMap\n",
    "        weather_data = fetch_weather_data(city)\n",
    "\n",
    "        if weather_data:\n",
    "            # Extract relevant information\n",
    "            weather_info = extract_weather_info(weather_data)\n",
    "\n",
    "            # Append to the list\n",
    "            if weather_info:\n",
    "                weather_data_list.append(weather_info)\n",
    "        else:\n",
    "            print(f\"Failed to fetch weather data for {city}\")\n",
    "\n",
    "    # Create a DataFrame from the list of weather information\n",
    "df_weather = pd.DataFrame(weather_data_list)\n",
    "\n",
    "    # Display the DataFrame\n",
    "print(\"\\nWeather Data Table:\")\n",
    "print(df_weather)\n",
    "\n",
    "# Optional: Save DataFrame to a CSV file for later use\n",
    "df_weather.to_csv('weather_data.csv', index=False)\n",
    "\n"
   ]
  },
  {
   "cell_type": "markdown",
   "metadata": {},
   "source": [
    "## <b>Transforming Data"
   ]
  },
  {
   "cell_type": "code",
   "execution_count": 3,
   "metadata": {},
   "outputs": [
    {
     "name": "stdout",
     "output_type": "stream",
     "text": [
      "\n",
      "Transformed DataFrame:\n",
      "          City          Weather  Temperature_Celsius  Humidity  Wind_speed  \\\n",
      "0     New York    Broken clouds                23.62        83        1.79   \n",
      "1  Los Angeles        Clear sky                21.92        70        3.60   \n",
      "2      Chicago  Very heavy rain                22.68        90        7.66   \n",
      "3      Houston    Broken clouds                27.18        75        3.09   \n",
      "4      Phoenix    Broken clouds                34.54        39        3.09   \n",
      "\n",
      "   Temperature_Fahrenheit  Date Month  Year      Time  \n",
      "0                  74.516    23  June  2024  10:43:00  \n",
      "1                  71.456    23  June  2024  10:46:06  \n",
      "2                  72.824    23  June  2024  10:46:42  \n",
      "3                  80.924    23  June  2024  10:46:51  \n",
      "4                  94.172    23  June  2024  10:49:04  \n"
     ]
    }
   ],
   "source": [
    "df_weather = df_weather.dropna()  # Drop rows with any missing values\n",
    "\n",
    "# Remove duplicates if any\n",
    "df_weather = df_weather.drop_duplicates()\n",
    "\n",
    "# Ensure correct data types\n",
    "df_weather['Temperature_Celsius'] = df_weather['Temperature_Celsius'].astype(float)\n",
    "df_weather['Humidity'] = df_weather['Humidity'].astype(int)\n",
    "df_weather['Wind_speed'] = df_weather['Wind_speed'].astype(float)\n",
    "df_weather['Timestamp'] = pd.to_datetime(df_weather['Timestamp'])\n",
    "\n",
    "# Enrich the data\n",
    "df_weather['Temperature_Fahrenheit'] = df_weather['Temperature_Celsius'] * 9/5 + 32\n",
    "\n",
    "# Separate the Timestamp into Date, Month, Year, and Time\n",
    "df_weather['Date'] = df_weather['Timestamp'].dt.day\n",
    "df_weather['Month'] = df_weather['Timestamp'].dt.strftime('%B')\n",
    "df_weather['Year'] = df_weather['Timestamp'].dt.year\n",
    "df_weather['Time'] = df_weather['Timestamp'].dt.strftime('%H:%M:%S')\n",
    "\n",
    "# Drop the original Timestamp column\n",
    "df_weather = df_weather.drop(columns=['Timestamp'])\n",
    "\n",
    "# Normalize the data\n",
    "df_weather['City'] = df_weather['City'].str.title()  # Capitalize city names\n",
    "df_weather['Weather'] = df_weather['Weather'].str.capitalize()  # Capitalize weather descriptions\n",
    "\n",
    "# Display the transformed DataFrame\n",
    "print(\"\\nTransformed DataFrame:\")\n",
    "print(df_weather.head())"
   ]
  },
  {
   "cell_type": "markdown",
   "metadata": {},
   "source": [
    "## <b>Loading Data"
   ]
  },
  {
   "cell_type": "code",
   "execution_count": 4,
   "metadata": {},
   "outputs": [],
   "source": [
    "# Function to insert DataFrame into a SQLite database\n",
    "def insert_into_db(df, db_name='Database/weather_data.db', table_name='weather'):\n",
    "    # Ensure the database directory exists\n",
    "    os.makedirs(os.path.dirname(db_name), exist_ok=True)\n",
    "\n",
    "    # Connect to SQLite database (or create it if it doesn't exist)\n",
    "    conn = sqlite3.connect(db_name)\n",
    "    cursor = conn.cursor()\n",
    "\n",
    "    # Create table if it doesn't exist\n",
    "    cursor.execute(f'''\n",
    "    CREATE TABLE IF NOT EXISTS {table_name} (\n",
    "        city TEXT,\n",
    "        weather TEXT,\n",
    "        temperature_celsius REAL,\n",
    "        humidity INTEGER,\n",
    "        wind_speed REAL,\n",
    "        temperature_fahrenheit REAL,\n",
    "        date INTEGER,\n",
    "        month TEXT,\n",
    "        year INTEGER,\n",
    "        time TEXT\n",
    "    )\n",
    "    ''')\n",
    "\n",
    "    # Insert DataFrame into the database\n",
    "    df.to_sql(table_name, conn, if_exists='append', index=False)\n",
    "\n",
    "    # Commit changes and close connection\n",
    "    conn.commit()\n",
    "    conn.close()\n",
    "\n",
    "# Insert DataFrame into SQLite database\n",
    "insert_into_db(df_weather)"
   ]
  }
 ],
 "metadata": {
  "kernelspec": {
   "display_name": "venv",
   "language": "python",
   "name": "python3"
  },
  "language_info": {
   "codemirror_mode": {
    "name": "ipython",
    "version": 3
   },
   "file_extension": ".py",
   "mimetype": "text/x-python",
   "name": "python",
   "nbconvert_exporter": "python",
   "pygments_lexer": "ipython3",
   "version": "3.12.2"
  }
 },
 "nbformat": 4,
 "nbformat_minor": 2
}
